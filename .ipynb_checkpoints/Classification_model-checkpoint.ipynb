{
 "cells": [
  {
   "cell_type": "code",
   "execution_count": 57,
   "id": "27f42616-ee32-451e-b52b-8e8cbc6b626b",
   "metadata": {},
   "outputs": [
    {
     "name": "stdout",
     "output_type": "stream",
     "text": [
      "[0 0 3 3 0 1 3 1 0 1 1 1 3 0 0 1 0 2 0 0 2 0 0 1 0 0 1 0 0 1 0 3 1 0 1 1 0\n",
      " 2 1 0 0 0 0 0 0 3 0 3 1 0 0 0 0 0 0 1 2 0 0 0 0 0 0 0 1 0 0 1 0 0 1 0 0 1\n",
      " 0 0 0 0 0 3 0 3 0 0 2 0 1 3 0 0 0 0 1 0 1 0 0 0 0 0 0 0 0 1 0 0 3 0 1 1 1\n",
      " 0 0 2 0 0 0 0 0 0 0 0 1 1 0 1 0 1 0 0 0 0 0 0 0 1 0 0 0 0 0 0 0 0 2 1 0 0\n",
      " 0 1 1 1 0 0 1 0 2 0 0 0 1 0 0 0 1 0 0 0 1 0 0 0 1 0 0 1 0 0 0 0 1 0 0 0 1\n",
      " 0 0 1 0 1 0 2 0 0 0 0 0 1 2 0 0 0 0 1 1 1 0 0 1 0 1 0 1 0 0 0 0 0 3 0 0 2\n",
      " 0 0 0 1 0 0 0 0 0 1 0 0 1 0 1 0 0 0 0 1 1 0 0 1 0 0 0 2 0 3 0 0 1 1 0 0 3\n",
      " 0 0 0 0 1 0 0 0 0 0 0 0 0 0 3 0 0 0 0 0 0 0 3 2 0 3 0 0 1 3 0 1 0 2 0 3 0\n",
      " 0 1 0 0 0 0 3 1 1 1 0 3 0 0 2 0 1 0 3 0 0 0 0 0 0 0 0 0 1 0 0 0 0 1 0 0 0\n",
      " 3 3 0 0 0 1 2 0 0 0 2 0 0]\n",
      "0.7225433526011561\n",
      "actual val: 0\n",
      "predicted: 0\n"
     ]
    }
   ],
   "source": [
    "import numpy as np\n",
    "import pandas as pd\n",
    "from sklearn import neighbors, metrics\n",
    "from sklearn.model_selection import train_test_split\n",
    "from sklearn.preprocessing import LabelEncoder\n",
    "\n",
    "data = pd.read_csv('car.data')\n",
    "\n",
    "x = data[['buying', 'maint', 'safety']].values\n",
    "\n",
    "y = data['class']\n",
    "\n",
    "#converting the data\n",
    "\n",
    "le = LabelEncoder()\n",
    "for i in range(len(x[0])):\n",
    "    x[:, i] = le.fit_transform(x[:, i]);\n",
    "\n",
    "# converting the y\n",
    "\n",
    "\n",
    "\n",
    "label_mapping = {\n",
    "    \"unacc\": 0,\n",
    "    \"acc\": 1,\n",
    "    \"good\": 2,\n",
    "    \"vgood\": 3\n",
    "}\n",
    "\n",
    "y = y.map(label_mapping)\n",
    "\n",
    "knn =  neighbors.KNeighborsClassifier(n_neighbors=25, weights='uniform')\n",
    "\n",
    "X_train, X_test, y_train, y_test = train_test_split(x, y, test_size=0.2)\n",
    "\n",
    "knn.fit(X_train, y_train)\n",
    "\n",
    "predictions = knn.predict(X_test)\n",
    "\n",
    "accuracy = metrics.accuracy_score(y_test, predictions)\n",
    "\n",
    "print('{}'.format(predictions))\n",
    "\n",
    "print('{}'.format(accuracy))\n",
    "\n",
    "print('actual val: {}'.format(y[20]))\n",
    "\n",
    "print('predicted: {}'.format(knn.predict(x)[20]))\n"
   ]
  }
 ],
 "metadata": {
  "kernelspec": {
   "display_name": "Python 3 (ipykernel)",
   "language": "python",
   "name": "python3"
  },
  "language_info": {
   "codemirror_mode": {
    "name": "ipython",
    "version": 3
   },
   "file_extension": ".py",
   "mimetype": "text/x-python",
   "name": "python",
   "nbconvert_exporter": "python",
   "pygments_lexer": "ipython3",
   "version": "3.10.12"
  }
 },
 "nbformat": 4,
 "nbformat_minor": 5
}
